{
 "cells": [
  {
   "cell_type": "markdown",
   "metadata": {},
   "source": [
    "# StopDrinking 모델 사용\n",
    "## import"
   ]
  },
  {
   "cell_type": "code",
   "execution_count": 1,
   "metadata": {},
   "outputs": [],
   "source": [
    "import tensorflow as tf\n",
    "import numpy as np\n",
    "\n",
    "memberId = \"test\""
   ]
  },
  {
   "cell_type": "markdown",
   "metadata": {},
   "source": [
    "## 예측에 사용할 데이터\n",
    "(얼마나 긴장했는지, 전날 얼마나 마셨는지, 얼마나 잤는지, 얼마나 취하고 싶은지(default는 5로 고정))"
   ]
  },
  {
   "cell_type": "code",
   "execution_count": 2,
   "metadata": {},
   "outputs": [],
   "source": [
    "test_x = [[ 1, 5, 12, 5 ]]"
   ]
  },
  {
   "cell_type": "markdown",
   "metadata": {},
   "source": [
    "## 학습"
   ]
  },
  {
   "cell_type": "code",
   "execution_count": 3,
   "metadata": {},
   "outputs": [
    {
     "name": "stdout",
     "output_type": "stream",
     "text": [
      "INFO:tensorflow:Restoring parameters from ./models/test/model\n",
      "result:\n",
      "[array([[23.54566]])]\n",
      "jobs-done\n"
     ]
    }
   ],
   "source": [
    "n_amount_layer = 4\n",
    "n_amount_input = 4\n",
    "n_amount_hidden = [4, 4]\n",
    "\n",
    "amount_weights = {\n",
    "    'h1' : tf.Variable(tf.random_normal([n_amount_input, n_amount_hidden[0]], dtype=tf.float64), dtype=tf.float64),\n",
    "    'h2' : tf.Variable(tf.random_normal([n_amount_hidden[0], n_amount_hidden[1]], dtype=tf.float64), dtype=tf.float64),\n",
    "    'out' : tf.Variable(tf.random_normal([n_amount_hidden[1], 1], dtype=tf.float64), dtype=tf.float64)\n",
    "}\n",
    "amount_biases = {\n",
    "    'b1' : tf.Variable(tf.random_normal([n_amount_hidden[0]], dtype=tf.float64), dtype=tf.float64),\n",
    "    'b2' : tf.Variable(tf.random_normal([n_amount_hidden[1]], dtype=tf.float64), dtype=tf.float64),\n",
    "    'out' : tf.Variable(tf.random_normal([1], dtype=tf.float64), dtype=tf.float64)\n",
    "}\n",
    "\n",
    "def amount_mlp(x):\n",
    "    L1 = tf.add(tf.matmul(x, amount_weights['h1']), amount_biases['b1'])\n",
    "    L2 = tf.add(tf.matmul(L1, amount_weights['h2']), amount_biases['b2'])\n",
    "    Lout = tf.matmul(L2, amount_weights['out']) +  amount_biases['out']\n",
    "    return Lout\n",
    "\n",
    "amount_x = tf.placeholder(dtype=tf.float64, shape=[None, n_amount_input])\n",
    "amount_y = tf.placeholder(dtype=tf.float64, shape=[1])\n",
    "\n",
    "amount_hypothesis = amount_mlp(amount_x)\n",
    "amount_cost = tf.reduce_mean(tf.square(amount_hypothesis - amount_y))\n",
    "amount_optimizer = tf.train.AdamOptimizer(learning_rate=0.01).minimize(amount_cost)\n",
    "\n",
    "# Prints the rows of the result set of the above query.\n",
    "with tf.Session() as sess:\n",
    "    sess.run(tf.global_variables_initializer())\n",
    "    # save model \n",
    "    saver = tf.train.Saver()\n",
    "    save_path = \"./models/\"+memberId+\"/model\"\n",
    "    saver.restore(sess, save_path)\n",
    "\n",
    "    # test\n",
    "    print(\"result:\")\n",
    "    print(sess.run([amount_hypothesis], feed_dict={amount_x: test_x}))\n",
    "print(\"jobs-done\")"
   ]
  },
  {
   "cell_type": "markdown",
   "metadata": {},
   "source": [
    "backup"
   ]
  },
  {
   "cell_type": "code",
   "execution_count": null,
   "metadata": {},
   "outputs": [],
   "source": []
  }
 ],
 "metadata": {
  "kernelspec": {
   "display_name": "Python 3",
   "language": "python",
   "name": "python3"
  },
  "language_info": {
   "codemirror_mode": {
    "name": "ipython",
    "version": 3
   },
   "file_extension": ".py",
   "mimetype": "text/x-python",
   "name": "python",
   "nbconvert_exporter": "python",
   "pygments_lexer": "ipython3",
   "version": "3.6.7"
  }
 },
 "nbformat": 4,
 "nbformat_minor": 2
}
