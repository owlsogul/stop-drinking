{
 "cells": [
  {
   "cell_type": "markdown",
   "metadata": {},
   "source": [
    "# StopDrinking 모델 학습\n",
    "## import 와 필요한 정보들\n",
    "\n",
    "Sqlite 쿼리문"
   ]
  },
  {
   "cell_type": "code",
   "execution_count": 2,
   "metadata": {},
   "outputs": [
    {
     "name": "stdout",
     "output_type": "stream",
     "text": [
      "SELECT partyTension, partyDrinkingYesterday, partySleepHour, feedbackDrinkness, feedbackAmountDrink FROM Party NATURAL JOIN Feedback where Party.partyHolder=\"test\"\n"
     ]
    }
   ],
   "source": [
    "import tensorflow as tf\n",
    "import numpy as np\n",
    "\n",
    "memberId = \"test\"\n",
    "selectSql = \"SELECT partyTension, partyDrinkingYesterday, partySleepHour, feedbackDrinkness, feedbackAmountDrink \"\n",
    "fromSql = \"FROM Party NATURAL JOIN Feedback \"\n",
    "whereSql = \"where Party.partyHolder=\\\"\" + memberId + \"\\\"\"\n",
    "sql = selectSql + fromSql + whereSql\n",
    "print(sql)"
   ]
  },
  {
   "cell_type": "markdown",
   "metadata": {},
   "source": [
    "## Sqlite 에서 데이터 로드"
   ]
  },
  {
   "cell_type": "code",
   "execution_count": 3,
   "metadata": {},
   "outputs": [
    {
     "name": "stdout",
     "output_type": "stream",
     "text": [
      "<SqlDataset shapes: ((), (), (), (), ()), types: (tf.float64, tf.float64, tf.float64, tf.float64, tf.float64)>\n"
     ]
    }
   ],
   "source": [
    "dataset = tf.data.experimental.SqlDataset(\"sqlite\", \"./database.sqlite3\", sql, (tf.float64, tf.float64, tf.float64, tf.float64, tf.float64))\n",
    "print(dataset)\n",
    "\n",
    "iterator = dataset.make_one_shot_iterator()\n",
    "next_element = iterator.get_next()"
   ]
  },
  {
   "cell_type": "markdown",
   "metadata": {},
   "source": [
    "## 학습"
   ]
  },
  {
   "cell_type": "code",
   "execution_count": 4,
   "metadata": {},
   "outputs": [
    {
     "name": "stdout",
     "output_type": "stream",
     "text": [
      "train-done\n",
      "save-done\n",
      "C:\\Users\\start\\Documents\\GitHub\\stop-drinking-server\\Server\n",
      "Model saved in file:  ./models/test/model\n",
      "[array([[ 0.76222738],\n",
      "       [24.38419798],\n",
      "       [ 8.38461172],\n",
      "       [13.072745  ]])]\n"
     ]
    }
   ],
   "source": [
    "n_amount_input = 4\n",
    "n_amount_hidden = [4]\n",
    "\n",
    "amount_weights = {\n",
    "    'h1' : tf.Variable(tf.random_normal([n_amount_input, n_amount_hidden[0]], dtype=tf.float64), dtype=tf.float64),\n",
    "    'out' : tf.Variable(tf.random_normal([n_amount_hidden[0], 1], dtype=tf.float64), dtype=tf.float64)\n",
    "}\n",
    "amount_biases = {\n",
    "    'b1' : tf.Variable(tf.random_normal([n_amount_hidden[0]], dtype=tf.float64), dtype=tf.float64),\n",
    "    'out' : tf.Variable(tf.random_normal([1], dtype=tf.float64), dtype=tf.float64)\n",
    "}\n",
    "\n",
    "def amount_mlp(x):\n",
    "    L1 = tf.add(tf.matmul(x, amount_weights['h1']), amount_biases['b1'])\n",
    "    Lout = tf.matmul(L1, amount_weights['out']) +  amount_biases['out']\n",
    "    return Lout\n",
    "\n",
    "amount_x = tf.placeholder(dtype=tf.float64, shape=[None, n_amount_input])\n",
    "amount_y = tf.placeholder(dtype=tf.float64, shape=[1])\n",
    "\n",
    "element_amount_x = [ tf.slice(next_element, [0], [n_amount_input]) ]\n",
    "element_amount_y = tf.slice(next_element, [4], [1])\n",
    "\n",
    "amount_hypothesis = amount_mlp(amount_x)\n",
    "amount_cost = tf.reduce_mean(tf.square(amount_hypothesis - amount_y))\n",
    "amount_optimizer = tf.train.AdamOptimizer(learning_rate=0.01).minimize(amount_cost)\n",
    "\n",
    "# Prints the rows of the result set of the above query.\n",
    "with tf.Session() as sess:\n",
    "    sess.run(tf.global_variables_initializer())\n",
    "    for step in range(3001):\n",
    "        while True:\n",
    "            try:\n",
    "                x_train, y_train = sess.run([element_amount_x, element_amount_y])\n",
    "                sess.run([amount_optimizer], feed_dict={amount_x: x_train, amount_y:y_train})\n",
    "            except tf.errors.OutOfRangeError:\n",
    "                break\n",
    "    print(\"train-done\")\n",
    "    saver = tf.train.Saver()\n",
    "    save_path = saver.save(sess, \"./models/\"+memberId+\"/model\")\n",
    "    print(\"save-done\")\n",
    "\n",
    "    import os\n",
    "    print (os.getcwd())\n",
    "    print(\"Model saved in file: \", save_path)\n",
    "    # test\n",
    "    x_test = [[3, 10, 2, 5], [10, 2, 4, 5], [4, 6,3, 5], [1, 10, 10, 4]]\n",
    "    print(sess.run([amount_hypothesis], feed_dict={amount_x: x_test}))"
   ]
  },
  {
   "cell_type": "code",
   "execution_count": null,
   "metadata": {},
   "outputs": [],
   "source": []
  }
 ],
 "metadata": {
  "kernelspec": {
   "display_name": "Python 3",
   "language": "python",
   "name": "python3"
  },
  "language_info": {
   "codemirror_mode": {
    "name": "ipython",
    "version": 3
   },
   "file_extension": ".py",
   "mimetype": "text/x-python",
   "name": "python",
   "nbconvert_exporter": "python",
   "pygments_lexer": "ipython3",
   "version": "3.6.7"
  }
 },
 "nbformat": 4,
 "nbformat_minor": 2
}
